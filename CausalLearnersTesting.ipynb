{
 "cells": [
  {
   "cell_type": "code",
   "execution_count": 62,
   "id": "129a28f9-0cf7-4b08-8ac5-04c5ae04ffdd",
   "metadata": {},
   "outputs": [
    {
     "name": "stdout",
     "output_type": "stream",
     "text": [
      "Name: econml\n",
      "Version: 0.15.1\n",
      "Summary: This package contains several methods for calculating Conditional Average Treatment Effects\n",
      "Home-page: \n",
      "Author: PyWhy contributors\n",
      "Author-email: \n",
      "License: MIT\n",
      "Location: /Users/baolongtruong/miniconda3/envs/causalenv/lib/python3.11/site-packages\n",
      "Requires: joblib, lightgbm, numpy, packaging, pandas, scikit-learn, scipy, shap, sparse, statsmodels\n",
      "Required-by: \n",
      "Note: you may need to restart the kernel to use updated packages.\n"
     ]
    }
   ],
   "source": [
    "pip show econml"
   ]
  },
  {
   "cell_type": "code",
   "execution_count": 65,
   "id": "fd862e53-bc43-43b1-b9e8-c1d8d7e4cabd",
   "metadata": {},
   "outputs": [],
   "source": [
    "from causalsim import *\n",
    "from econml.metalearners import XLearner\n",
    "from sklearn.linear_model import LinearRegression"
   ]
  },
  {
   "cell_type": "code",
   "execution_count": 92,
   "id": "aae349b6-2d0f-4451-8ee4-275018c9bff4",
   "metadata": {},
   "outputs": [
    {
     "name": "stdout",
     "output_type": "stream",
     "text": [
      "         X1        X2        X3        X4        X5       tau  Z   epsilon  \\\n",
      "0  1.108348  1.034169  0.797459 -0.035705 -0.245124  1.108348  0 -0.738619   \n",
      "1  0.087467 -0.105088  0.679914 -1.264459 -0.476099  0.087467  1 -2.730018   \n",
      "2 -0.148742 -1.672453  1.353139  1.038445  0.926281 -0.148742  1 -2.536567   \n",
      "3 -0.529106  1.324408  1.193173  0.244598 -1.541197 -0.529106  1  3.792390   \n",
      "4 -1.248128  0.067255  1.887464 -0.618083  0.380675 -1.248128  1 -1.349997   \n",
      "5  0.479626 -1.515265 -1.130839 -1.278532 -0.485702  0.479626  1  4.108824   \n",
      "6 -0.400114 -1.027037 -1.110247 -0.609868  1.243927 -0.400114  1  2.656717   \n",
      "7 -0.203105 -0.091912  0.602252  1.849883  0.712085 -0.203105  1  1.422781   \n",
      "8  0.668500  1.964644  1.418206  0.358613 -0.202656  0.668500  0  0.684697   \n",
      "9  0.426259  0.832464 -0.628767 -0.444821 -0.390616  0.426259  0  0.555563   \n",
      "\n",
      "          Y  \n",
      "0 -0.738619  \n",
      "1 -2.642552  \n",
      "2 -2.685310  \n",
      "3  3.263284  \n",
      "4 -2.598125  \n",
      "5  4.588450  \n",
      "6  2.256602  \n",
      "7  1.219676  \n",
      "8  0.684697  \n",
      "9  0.555563  \n"
     ]
    }
   ],
   "source": [
    "n = 10000  # Number of individuals\n",
    "p = 5     # Number of covariates\n",
    "data = simulation_1(n, p, beta = 1, sigma = 1.5)\n",
    "print(data.head(10))"
   ]
  },
  {
   "cell_type": "code",
   "execution_count": 93,
   "id": "3d1b2bde-973e-4a51-bd8e-5d17a3bf59db",
   "metadata": {},
   "outputs": [],
   "source": [
    "X = np.array(data[['X1', 'X2', 'X3', 'X4', 'X5']])\n",
    "T = data['Z']\n",
    "y = data['Y']"
   ]
  },
  {
   "cell_type": "code",
   "execution_count": 94,
   "id": "92fbe3fd-b5ad-4cc1-b0de-52eaf7d8fdc0",
   "metadata": {},
   "outputs": [
    {
     "data": {
      "text/plain": [
       "<econml.metalearners._metalearners.XLearner at 0x1859ad350>"
      ]
     },
     "execution_count": 94,
     "metadata": {},
     "output_type": "execute_result"
    }
   ],
   "source": [
    "est = XLearner(models=LinearRegression())\n",
    "est.fit(y, T, X=X)"
   ]
  },
  {
   "cell_type": "code",
   "execution_count": 95,
   "id": "673bcc26-5c4a-4f0d-a78c-4a242effba57",
   "metadata": {},
   "outputs": [
    {
     "data": {
      "text/plain": [
       "0    1.108348\n",
       "1    0.087467\n",
       "2   -0.148742\n",
       "3   -0.529106\n",
       "4   -1.248128\n",
       "5    0.479626\n",
       "6   -0.400114\n",
       "7   -0.203105\n",
       "8    0.668500\n",
       "9    0.426259\n",
       "Name: tau, dtype: float64"
      ]
     },
     "execution_count": 95,
     "metadata": {},
     "output_type": "execute_result"
    }
   ],
   "source": [
    "data['tau'].head(10)"
   ]
  },
  {
   "cell_type": "code",
   "execution_count": 96,
   "id": "88cbca70-44fc-44b8-8835-1f87afffab04",
   "metadata": {},
   "outputs": [
    {
     "data": {
      "text/plain": [
       "array([ 1.24544978,  0.17054722, -0.12799776, -0.46687799, -1.18642891,\n",
       "        0.49080071, -0.40622007, -0.18589408,  0.82066878,  0.49374082])"
      ]
     },
     "execution_count": 96,
     "metadata": {},
     "output_type": "execute_result"
    }
   ],
   "source": [
    "est.effect(X[:10])"
   ]
  }
 ],
 "metadata": {
  "kernelspec": {
   "display_name": "Python (causalenv)",
   "language": "python",
   "name": "myenv"
  },
  "language_info": {
   "codemirror_mode": {
    "name": "ipython",
    "version": 3
   },
   "file_extension": ".py",
   "mimetype": "text/x-python",
   "name": "python",
   "nbconvert_exporter": "python",
   "pygments_lexer": "ipython3",
   "version": "3.11.9"
  }
 },
 "nbformat": 4,
 "nbformat_minor": 5
}
