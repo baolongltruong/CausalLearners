{
 "cells": [
  {
   "cell_type": "code",
   "execution_count": 25,
   "id": "fd862e53-bc43-43b1-b9e8-c1d8d7e4cabd",
   "metadata": {},
   "outputs": [],
   "source": [
    "from causalsim import *"
   ]
  },
  {
   "cell_type": "code",
   "execution_count": 27,
   "id": "6a08fd33-ed0f-4e44-8d06-ae94898c5feb",
   "metadata": {},
   "outputs": [
    {
     "name": "stdout",
     "output_type": "stream",
     "text": [
      "         X1       tau  Z   epsilon         Y\n",
      "0  0.092159  0.092159  0  0.867876  0.867876\n",
      "1  0.878563  0.878563  0  0.663342  0.663342\n",
      "2 -0.886367 -0.886367  0  1.227361  1.227361\n",
      "3  0.178933  0.178933  1  0.411581  0.590514\n",
      "4  0.305927  0.305927  1 -0.171112  0.134814\n"
     ]
    }
   ],
   "source": [
    "n = 1000  # Number of individuals\n",
    "p = 1     # Number of covariates\n",
    "data_df = simulation_1(n, p)\n",
    "print(data_df.head())"
   ]
  }
 ],
 "metadata": {
  "kernelspec": {
   "display_name": "Python 3 (ipykernel)",
   "language": "python",
   "name": "python3"
  },
  "language_info": {
   "codemirror_mode": {
    "name": "ipython",
    "version": 3
   },
   "file_extension": ".py",
   "mimetype": "text/x-python",
   "name": "python",
   "nbconvert_exporter": "python",
   "pygments_lexer": "ipython3",
   "version": "3.10.9"
  }
 },
 "nbformat": 4,
 "nbformat_minor": 5
}
