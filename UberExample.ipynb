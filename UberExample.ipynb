{
 "cells": [
  {
   "cell_type": "code",
   "execution_count": 1,
   "id": "904b6bd4-7e03-4bff-9229-53481c1809c6",
   "metadata": {},
   "outputs": [
    {
     "name": "stderr",
     "output_type": "stream",
     "text": [
      "Matplotlib is building the font cache; this may take a moment.\n",
      "/Users/baolongtruong/miniconda3/envs/causaluberenv/lib/python3.11/site-packages/tqdm/auto.py:21: TqdmWarning: IProgress not found. Please update jupyter and ipywidgets. See https://ipywidgets.readthedocs.io/en/stable/user_install.html\n",
      "  from .autonotebook import tqdm as notebook_tqdm\n",
      "Failed to import duecredit due to No module named 'duecredit'\n"
     ]
    }
   ],
   "source": [
    "import pandas as pd\n",
    "import numpy as np\n",
    "from matplotlib import pyplot as plt\n",
    "from sklearn.linear_model import LinearRegression\n",
    "from sklearn.model_selection import train_test_split\n",
    "import statsmodels.api as sm\n",
    "from xgboost import XGBRegressor\n",
    "import warnings\n",
    "\n",
    "from causalml.inference.meta import LRSRegressor\n",
    "from causalml.inference.meta import XGBTRegressor, MLPTRegressor\n",
    "from causalml.inference.meta import BaseXRegressor, BaseRRegressor, BaseSRegressor, BaseTRegressor\n",
    "from causalml.match import NearestNeighborMatch, MatchOptimizer, create_table_one\n",
    "from causalml.propensity import ElasticNetPropensityModel\n",
    "from causalml.dataset import *\n",
    "from causalml.metrics import *"
   ]
  },
  {
   "cell_type": "code",
   "execution_count": 3,
   "id": "522697df-b6f6-4518-a8cd-573365eb79d4",
   "metadata": {},
   "outputs": [],
   "source": [
    "# Generate synthetic data using mode 1\n",
    "y, X, treatment, tau, b, e = synthetic_data(mode=1, n=10000, p=8, sigma=1.0)"
   ]
  },
  {
   "cell_type": "code",
   "execution_count": 4,
   "id": "50ccfddb-f764-4816-95fc-70adfbfb0e40",
   "metadata": {},
   "outputs": [
    {
     "ename": "AttributeError",
     "evalue": "'csr_matrix' object has no attribute 'A'",
     "output_type": "error",
     "traceback": [
      "\u001b[0;31m---------------------------------------------------------------------------\u001b[0m",
      "\u001b[0;31mAttributeError\u001b[0m                            Traceback (most recent call last)",
      "Cell \u001b[0;32mIn[4], line 15\u001b[0m\n\u001b[1;32m     13\u001b[0m \u001b[38;5;66;03m# X Learner without propensity score input\u001b[39;00m\n\u001b[1;32m     14\u001b[0m learner_x_no_p \u001b[38;5;241m=\u001b[39m BaseXRegressor(learner\u001b[38;5;241m=\u001b[39mXGBRegressor())\n\u001b[0;32m---> 15\u001b[0m cate_x_no_p \u001b[38;5;241m=\u001b[39m learner_x_no_p\u001b[38;5;241m.\u001b[39mfit_predict(X\u001b[38;5;241m=\u001b[39mX, treatment\u001b[38;5;241m=\u001b[39mtreatment, y\u001b[38;5;241m=\u001b[39my)\n\u001b[1;32m     17\u001b[0m \u001b[38;5;66;03m# R Learner with propensity score input\u001b[39;00m\n\u001b[1;32m     18\u001b[0m learner_r \u001b[38;5;241m=\u001b[39m BaseRRegressor(learner\u001b[38;5;241m=\u001b[39mXGBRegressor())\n",
      "File \u001b[0;32m~/miniconda3/envs/causaluberenv/lib/python3.11/site-packages/causalml/inference/meta/xlearner.py:249\u001b[0m, in \u001b[0;36mBaseXLearner.fit_predict\u001b[0;34m(self, X, treatment, y, p, return_ci, n_bootstraps, bootstrap_size, return_components, verbose)\u001b[0m\n\u001b[1;32m    229\u001b[0m \u001b[38;5;250m\u001b[39m\u001b[38;5;124;03m\"\"\"Fit the treatment effect and outcome models of the R learner and predict treatment effects.\u001b[39;00m\n\u001b[1;32m    230\u001b[0m \n\u001b[1;32m    231\u001b[0m \u001b[38;5;124;03mArgs:\u001b[39;00m\n\u001b[0;32m   (...)\u001b[0m\n\u001b[1;32m    246\u001b[0m \u001b[38;5;124;03m        UB [n_samples, n_treatment]\u001b[39;00m\n\u001b[1;32m    247\u001b[0m \u001b[38;5;124;03m\"\"\"\u001b[39;00m\n\u001b[1;32m    248\u001b[0m X, treatment, y \u001b[38;5;241m=\u001b[39m convert_pd_to_np(X, treatment, y)\n\u001b[0;32m--> 249\u001b[0m \u001b[38;5;28mself\u001b[39m\u001b[38;5;241m.\u001b[39mfit(X, treatment, y, p)\n\u001b[1;32m    251\u001b[0m \u001b[38;5;28;01mif\u001b[39;00m p \u001b[38;5;129;01mis\u001b[39;00m \u001b[38;5;28;01mNone\u001b[39;00m:\n\u001b[1;32m    252\u001b[0m     p \u001b[38;5;241m=\u001b[39m \u001b[38;5;28mself\u001b[39m\u001b[38;5;241m.\u001b[39mpropensity\n",
      "File \u001b[0;32m~/miniconda3/envs/causaluberenv/lib/python3.11/site-packages/causalml/inference/meta/xlearner.py:111\u001b[0m, in \u001b[0;36mBaseXLearner.fit\u001b[0;34m(self, X, treatment, y, p)\u001b[0m\n\u001b[1;32m    108\u001b[0m \u001b[38;5;28mself\u001b[39m\u001b[38;5;241m.\u001b[39mt_groups\u001b[38;5;241m.\u001b[39msort()\n\u001b[1;32m    110\u001b[0m \u001b[38;5;28;01mif\u001b[39;00m p \u001b[38;5;129;01mis\u001b[39;00m \u001b[38;5;28;01mNone\u001b[39;00m:\n\u001b[0;32m--> 111\u001b[0m     \u001b[38;5;28mself\u001b[39m\u001b[38;5;241m.\u001b[39m_set_propensity_models(X\u001b[38;5;241m=\u001b[39mX, treatment\u001b[38;5;241m=\u001b[39mtreatment, y\u001b[38;5;241m=\u001b[39my)\n\u001b[1;32m    112\u001b[0m     p \u001b[38;5;241m=\u001b[39m \u001b[38;5;28mself\u001b[39m\u001b[38;5;241m.\u001b[39mpropensity\n\u001b[1;32m    113\u001b[0m \u001b[38;5;28;01melse\u001b[39;00m:\n",
      "File \u001b[0;32m~/miniconda3/envs/causaluberenv/lib/python3.11/site-packages/causalml/inference/meta/base.py:115\u001b[0m, in \u001b[0;36mBaseLearner._set_propensity_models\u001b[0;34m(self, X, treatment, y)\u001b[0m\n\u001b[1;32m    113\u001b[0m     w \u001b[38;5;241m=\u001b[39m (treatment \u001b[38;5;241m==\u001b[39m group)\u001b[38;5;241m.\u001b[39mastype(\u001b[38;5;28mint\u001b[39m)\n\u001b[1;32m    114\u001b[0m     propensity_model \u001b[38;5;241m=\u001b[39m \u001b[38;5;28mself\u001b[39m\u001b[38;5;241m.\u001b[39mmodel_p \u001b[38;5;28;01mif\u001b[39;00m \u001b[38;5;28mhasattr\u001b[39m(\u001b[38;5;28mself\u001b[39m, \u001b[38;5;124m\"\u001b[39m\u001b[38;5;124mmodel_p\u001b[39m\u001b[38;5;124m\"\u001b[39m) \u001b[38;5;28;01melse\u001b[39;00m \u001b[38;5;28;01mNone\u001b[39;00m\n\u001b[0;32m--> 115\u001b[0m     p[group], p_model[group] \u001b[38;5;241m=\u001b[39m compute_propensity_score(\n\u001b[1;32m    116\u001b[0m         X\u001b[38;5;241m=\u001b[39mX_filt,\n\u001b[1;32m    117\u001b[0m         treatment\u001b[38;5;241m=\u001b[39mw_filt,\n\u001b[1;32m    118\u001b[0m         p_model\u001b[38;5;241m=\u001b[39mpropensity_model,\n\u001b[1;32m    119\u001b[0m         X_pred\u001b[38;5;241m=\u001b[39mX,\n\u001b[1;32m    120\u001b[0m         treatment_pred\u001b[38;5;241m=\u001b[39mw,\n\u001b[1;32m    121\u001b[0m     )\n\u001b[1;32m    122\u001b[0m \u001b[38;5;28mself\u001b[39m\u001b[38;5;241m.\u001b[39mpropensity_model \u001b[38;5;241m=\u001b[39m p_model\n\u001b[1;32m    123\u001b[0m \u001b[38;5;28mself\u001b[39m\u001b[38;5;241m.\u001b[39mpropensity \u001b[38;5;241m=\u001b[39m p\n",
      "File \u001b[0;32m~/miniconda3/envs/causaluberenv/lib/python3.11/site-packages/causalml/propensity.py:229\u001b[0m, in \u001b[0;36mcompute_propensity_score\u001b[0;34m(X, treatment, p_model, X_pred, treatment_pred, calibrate_p)\u001b[0m\n\u001b[1;32m    227\u001b[0m \u001b[38;5;28;01mif\u001b[39;00m calibrate_p:\n\u001b[1;32m    228\u001b[0m     logger\u001b[38;5;241m.\u001b[39minfo(\u001b[38;5;124m\"\u001b[39m\u001b[38;5;124mCalibrating propensity scores.\u001b[39m\u001b[38;5;124m\"\u001b[39m)\n\u001b[0;32m--> 229\u001b[0m     p \u001b[38;5;241m=\u001b[39m calibrate(p, treatment_pred)\n\u001b[1;32m    231\u001b[0m \u001b[38;5;66;03m# force the p values within the range\u001b[39;00m\n\u001b[1;32m    232\u001b[0m eps \u001b[38;5;241m=\u001b[39m np\u001b[38;5;241m.\u001b[39mfinfo(\u001b[38;5;28mfloat\u001b[39m)\u001b[38;5;241m.\u001b[39meps\n",
      "File \u001b[0;32m~/miniconda3/envs/causaluberenv/lib/python3.11/site-packages/causalml/propensity.py:191\u001b[0m, in \u001b[0;36mcalibrate\u001b[0;34m(ps, treatment)\u001b[0m\n\u001b[1;32m    178\u001b[0m \u001b[38;5;28;01mdef\u001b[39;00m \u001b[38;5;21mcalibrate\u001b[39m(ps, treatment):\n\u001b[1;32m    179\u001b[0m \u001b[38;5;250m    \u001b[39m\u001b[38;5;124;03m\"\"\"Calibrate propensity scores with logistic GAM.\u001b[39;00m\n\u001b[1;32m    180\u001b[0m \n\u001b[1;32m    181\u001b[0m \u001b[38;5;124;03m    Ref: https://pygam.readthedocs.io/en/latest/api/logisticgam.html\u001b[39;00m\n\u001b[0;32m   (...)\u001b[0m\n\u001b[1;32m    188\u001b[0m \u001b[38;5;124;03m        (numpy.array): a calibrated propensity score vector\u001b[39;00m\n\u001b[1;32m    189\u001b[0m \u001b[38;5;124;03m    \"\"\"\u001b[39;00m\n\u001b[0;32m--> 191\u001b[0m     gam \u001b[38;5;241m=\u001b[39m LogisticGAM(s(\u001b[38;5;241m0\u001b[39m))\u001b[38;5;241m.\u001b[39mfit(ps, treatment)\n\u001b[1;32m    193\u001b[0m     \u001b[38;5;28;01mreturn\u001b[39;00m gam\u001b[38;5;241m.\u001b[39mpredict_proba(ps)\n",
      "File \u001b[0;32m~/miniconda3/envs/causaluberenv/lib/python3.11/site-packages/pygam/pygam.py:913\u001b[0m, in \u001b[0;36mGAM.fit\u001b[0;34m(self, X, y, weights)\u001b[0m\n\u001b[1;32m    910\u001b[0m \u001b[38;5;28mself\u001b[39m\u001b[38;5;241m.\u001b[39mstatistics_[\u001b[38;5;124m'\u001b[39m\u001b[38;5;124mm_features\u001b[39m\u001b[38;5;124m'\u001b[39m] \u001b[38;5;241m=\u001b[39m X\u001b[38;5;241m.\u001b[39mshape[\u001b[38;5;241m1\u001b[39m]\n\u001b[1;32m    912\u001b[0m \u001b[38;5;66;03m# optimize\u001b[39;00m\n\u001b[0;32m--> 913\u001b[0m \u001b[38;5;28mself\u001b[39m\u001b[38;5;241m.\u001b[39m_pirls(X, y, weights)\n\u001b[1;32m    914\u001b[0m \u001b[38;5;66;03m# if self._opt == 0:\u001b[39;00m\n\u001b[1;32m    915\u001b[0m \u001b[38;5;66;03m#     self._pirls(X, y, weights)\u001b[39;00m\n\u001b[1;32m    916\u001b[0m \u001b[38;5;66;03m# if self._opt == 1:\u001b[39;00m\n\u001b[1;32m    917\u001b[0m \u001b[38;5;66;03m#     self._pirls_naive(X, y)\u001b[39;00m\n\u001b[1;32m    918\u001b[0m \u001b[38;5;28;01mreturn\u001b[39;00m \u001b[38;5;28mself\u001b[39m\n",
      "File \u001b[0;32m~/miniconda3/envs/causaluberenv/lib/python3.11/site-packages/pygam/pygam.py:739\u001b[0m, in \u001b[0;36mGAM._pirls\u001b[0;34m(self, X, Y, weights)\u001b[0m\n\u001b[1;32m    732\u001b[0m \u001b[38;5;66;03m# initialize GLM coefficients if model is not yet fitted\u001b[39;00m\n\u001b[1;32m    733\u001b[0m \u001b[38;5;28;01mif\u001b[39;00m (\n\u001b[1;32m    734\u001b[0m     \u001b[38;5;129;01mnot\u001b[39;00m \u001b[38;5;28mself\u001b[39m\u001b[38;5;241m.\u001b[39m_is_fitted\n\u001b[1;32m    735\u001b[0m     \u001b[38;5;129;01mor\u001b[39;00m \u001b[38;5;28mlen\u001b[39m(\u001b[38;5;28mself\u001b[39m\u001b[38;5;241m.\u001b[39mcoef_) \u001b[38;5;241m!=\u001b[39m \u001b[38;5;28mself\u001b[39m\u001b[38;5;241m.\u001b[39mterms\u001b[38;5;241m.\u001b[39mn_coefs\n\u001b[1;32m    736\u001b[0m     \u001b[38;5;129;01mor\u001b[39;00m \u001b[38;5;129;01mnot\u001b[39;00m np\u001b[38;5;241m.\u001b[39misfinite(\u001b[38;5;28mself\u001b[39m\u001b[38;5;241m.\u001b[39mcoef_)\u001b[38;5;241m.\u001b[39mall()\n\u001b[1;32m    737\u001b[0m ):\n\u001b[1;32m    738\u001b[0m     \u001b[38;5;66;03m# initialize the model\u001b[39;00m\n\u001b[0;32m--> 739\u001b[0m     \u001b[38;5;28mself\u001b[39m\u001b[38;5;241m.\u001b[39mcoef_ \u001b[38;5;241m=\u001b[39m \u001b[38;5;28mself\u001b[39m\u001b[38;5;241m.\u001b[39m_initial_estimate(Y, modelmat)\n\u001b[1;32m    741\u001b[0m \u001b[38;5;28;01massert\u001b[39;00m np\u001b[38;5;241m.\u001b[39misfinite(\n\u001b[1;32m    742\u001b[0m     \u001b[38;5;28mself\u001b[39m\u001b[38;5;241m.\u001b[39mcoef_\n\u001b[1;32m    743\u001b[0m )\u001b[38;5;241m.\u001b[39mall(), \u001b[38;5;124m\"\u001b[39m\u001b[38;5;124mcoefficients should be well-behaved, but found: \u001b[39m\u001b[38;5;132;01m{}\u001b[39;00m\u001b[38;5;124m\"\u001b[39m\u001b[38;5;241m.\u001b[39mformat(\u001b[38;5;28mself\u001b[39m\u001b[38;5;241m.\u001b[39mcoef_)\n\u001b[1;32m    745\u001b[0m P \u001b[38;5;241m=\u001b[39m \u001b[38;5;28mself\u001b[39m\u001b[38;5;241m.\u001b[39m_P()\n",
      "File \u001b[0;32m~/miniconda3/envs/causaluberenv/lib/python3.11/site-packages/pygam/pygam.py:706\u001b[0m, in \u001b[0;36mGAM._initial_estimate\u001b[0;34m(self, y, modelmat)\u001b[0m\n\u001b[1;32m    700\u001b[0m \u001b[38;5;28;01massert\u001b[39;00m np\u001b[38;5;241m.\u001b[39misfinite(\n\u001b[1;32m    701\u001b[0m     y_\n\u001b[1;32m    702\u001b[0m )\u001b[38;5;241m.\u001b[39mall(), \u001b[38;5;124m\"\u001b[39m\u001b[38;5;124mtransformed response values should be well-behaved.\u001b[39m\u001b[38;5;124m\"\u001b[39m\n\u001b[1;32m    704\u001b[0m \u001b[38;5;66;03m# solve the linear problem\u001b[39;00m\n\u001b[1;32m    705\u001b[0m \u001b[38;5;28;01mreturn\u001b[39;00m np\u001b[38;5;241m.\u001b[39mlinalg\u001b[38;5;241m.\u001b[39msolve(\n\u001b[0;32m--> 706\u001b[0m     load_diagonal(modelmat\u001b[38;5;241m.\u001b[39mT\u001b[38;5;241m.\u001b[39mdot(modelmat)\u001b[38;5;241m.\u001b[39mA), modelmat\u001b[38;5;241m.\u001b[39mT\u001b[38;5;241m.\u001b[39mdot(y_)\n\u001b[1;32m    707\u001b[0m )\n",
      "\u001b[0;31mAttributeError\u001b[0m: 'csr_matrix' object has no attribute 'A'"
     ]
    }
   ],
   "source": [
    "# S Learner\n",
    "learner_s = LRSRegressor()\n",
    "cate_s = learner_s.fit_predict(X=X, treatment=treatment, y=y)\n",
    "\n",
    "# T Learner\n",
    "learner_t = BaseTRegressor(learner=XGBRegressor())\n",
    "cate_t = learner_t.fit_predict(X=X, treatment=treatment, y=y)\n",
    "\n",
    "# X Learner with propensity score input\n",
    "learner_x = BaseXRegressor(learner=XGBRegressor())\n",
    "cate_x = learner_x.fit_predict(X=X, treatment=treatment, y=y, p=e)\n",
    "\n",
    "# X Learner without propensity score input\n",
    "learner_x_no_p = BaseXRegressor(learner=XGBRegressor())\n",
    "cate_x_no_p = learner_x_no_p.fit_predict(X=X, treatment=treatment, y=y)\n",
    "\n",
    "# R Learner with propensity score input\n",
    "learner_r = BaseRRegressor(learner=XGBRegressor())\n",
    "cate_r = learner_r.fit_predict(X=X, treatment=treatment, y=y, p=e)\n",
    "\n",
    "# R Learner without propensity score input\n",
    "learner_r_no_p = BaseRRegressor(learner=XGBRegressor())\n",
    "cate_r_no_p = learner_r_no_p.fit_predict(X=X, treatment=treatment, y=y)"
   ]
  }
 ],
 "metadata": {
  "kernelspec": {
   "display_name": "Python (causaluberenv)",
   "language": "python",
   "name": "my_new_env"
  },
  "language_info": {
   "codemirror_mode": {
    "name": "ipython",
    "version": 3
   },
   "file_extension": ".py",
   "mimetype": "text/x-python",
   "name": "python",
   "nbconvert_exporter": "python",
   "pygments_lexer": "ipython3",
   "version": "3.11.9"
  }
 },
 "nbformat": 4,
 "nbformat_minor": 5
}
