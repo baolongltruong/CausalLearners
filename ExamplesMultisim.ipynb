{
 "cells": [
  {
   "cell_type": "code",
   "execution_count": 1,
   "id": "fb5253e8-ca8e-4132-812f-ae1e672f1c18",
   "metadata": {},
   "outputs": [],
   "source": [
    "from causalsim import *\n",
    "import metrics"
   ]
  },
  {
   "cell_type": "code",
   "execution_count": 2,
   "id": "88c3e059-8498-4cc3-a03b-7655c7a0876e",
   "metadata": {},
   "outputs": [],
   "source": [
    "n = 1000  # Number of individuals\n",
    "p = 1     # Number of covariates\n",
    "beta = 1  # Beta_1 value for treatment effect\n",
    "sigma = 1 # Sigma value for noise term"
   ]
  },
  {
   "cell_type": "code",
   "execution_count": 3,
   "id": "0362c2a7-b87a-42be-89b2-edcc1ba682d1",
   "metadata": {},
   "outputs": [],
   "source": [
    "data = simulation_simple(n = n, p = p, beta = beta, sigma = sigma)\n",
    "X = data[[col for col in data.columns if col.startswith('X')]]\n",
    "T = data['Z'] #treatment indicator\n",
    "y = data['Y']\n",
    "tau = np.array(data['tau'])\n",
    "\n",
    "tau_hat_lr = Causal_LR(data)"
   ]
  },
  {
   "cell_type": "code",
   "execution_count": 5,
   "id": "0f3f0ba1-684c-4c2f-8c10-55faeba547a3",
   "metadata": {},
   "outputs": [
    {
     "data": {
      "text/plain": [
       "(0.021000742688016338, -0.13791692946113057, 0.9790982210466478)"
      ]
     },
     "execution_count": 5,
     "metadata": {},
     "output_type": "execute_result"
    }
   ],
   "source": [
    "metrics.evaluate(tau,tau_hat_lr)"
   ]
  }
 ],
 "metadata": {
  "kernelspec": {
   "display_name": "Python 3 (ipykernel)",
   "language": "python",
   "name": "python3"
  },
  "language_info": {
   "codemirror_mode": {
    "name": "ipython",
    "version": 3
   },
   "file_extension": ".py",
   "mimetype": "text/x-python",
   "name": "python",
   "nbconvert_exporter": "python",
   "pygments_lexer": "ipython3",
   "version": "3.10.9"
  }
 },
 "nbformat": 4,
 "nbformat_minor": 5
}
