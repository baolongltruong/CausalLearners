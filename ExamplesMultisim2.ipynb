{
 "cells": [
  {
   "cell_type": "code",
   "execution_count": 23,
   "id": "1028ccd4-252a-4831-8774-487da637509f",
   "metadata": {},
   "outputs": [],
   "source": [
    "from causalsim import *\n",
    "import metrics\n",
    "from sklearn.linear_model import LinearRegression\n",
    "from sklearn.ensemble import RandomForestRegressor\n",
    "import numpy as np \n",
    "import pandas as pd"
   ]
  },
  {
   "cell_type": "code",
   "execution_count": 60,
   "id": "3ec61f34-576f-40ef-bf6c-31f9b63634f8",
   "metadata": {},
   "outputs": [],
   "source": [
    "n = 1000\n",
    "p = 1\n",
    "beta = 1\n",
    "sigma = 1\n",
    "learners = {\"LR\" : \"Causal_LR(data)\", \"X\" : \"Causal_XLearner(data, LinearRegression())\", \n",
    "            \"DR\" : \"Causal_DRLearner(data)\", \"CF\" : \"Causal_CausalForest(data)\",\n",
    "            \"T\" : \"Causal_TLearner(data, LinearRegression())\" , \"S\" : \"Causal_SLearner(data, LinearRegression())\"}\n",
    "\n",
    "data_str = f\"simulation_simple(n = {n}, p = {p}, beta = {beta}, sigma = {sigma})\""
   ]
  },
  {
   "cell_type": "code",
   "execution_count": 61,
   "id": "18cbf40a-64cf-4ac0-8e2b-1e4154c976fc",
   "metadata": {},
   "outputs": [],
   "source": [
    "res = run_experiment(learners, data_str, 10)"
   ]
  },
  {
   "cell_type": "code",
   "execution_count": 62,
   "id": "c153727e-8f04-4673-8c1f-d367940c5081",
   "metadata": {},
   "outputs": [
    {
     "data": {
      "text/plain": [
       "{'mse': [0.9661432784772463,\n",
       "  0.9820542021895405,\n",
       "  0.9445336997055479,\n",
       "  0.9838076703743152,\n",
       "  1.1029116981302378,\n",
       "  0.9540228827447459,\n",
       "  1.032068497486038,\n",
       "  0.9928098432877719,\n",
       "  1.0391974702831157,\n",
       "  1.0238103496924924],\n",
       " 'bias': [0.10256964808595934,\n",
       "  -0.07784512559322006,\n",
       "  -0.049586727150639935,\n",
       "  0.00502976982163876,\n",
       "  0.0530173858123709,\n",
       "  -0.03264071264273877,\n",
       "  -0.046742590313595414,\n",
       "  -0.0013916899778879089,\n",
       "  -0.04776679511904577,\n",
       "  0.10486593102180243],\n",
       " 'r2': [-0.011009085703599597,\n",
       "  -0.006208912632883701,\n",
       "  -0.0026100298647608877,\n",
       "  -2.5715631001288486e-05,\n",
       "  -0.002555077732897537,\n",
       "  -0.0011180101517032082,\n",
       "  -0.0021214724560927323,\n",
       "  -1.950831557406829e-06,\n",
       "  -0.0022004358580471894,\n",
       "  -0.010857738012841622]}"
      ]
     },
     "execution_count": 62,
     "metadata": {},
     "output_type": "execute_result"
    }
   ],
   "source": [
    "res['S']"
   ]
  },
  {
   "cell_type": "code",
   "execution_count": 44,
   "id": "14251d22-5e7e-48d2-acc7-806a15b5d6e9",
   "metadata": {},
   "outputs": [],
   "source": [
    "def run_experiment(learners, data_str, num_sim):\n",
    "\n",
    "    '''n = n  # Number of individuals\n",
    "    p = p     # Number of covariates\n",
    "    beta = beta  # Beta_1 value for treatment effect\n",
    "    sigma = sigma # Sigma value for noise term'''\n",
    "\n",
    "    metrics_result = {}\n",
    "    for learner in learners:\n",
    "            metrics_result[learner] = {'mse': [], 'bias': [], 'r2': []}\n",
    "        \n",
    "    \n",
    "    for i in range(num_sim):\n",
    "        data = eval(data_str)\n",
    "        tau = np.array(data['tau'])\n",
    "\n",
    "        for learner in learners:\n",
    "            tau_hat = eval(learners[learner])\n",
    "            metric_i = metrics.evaluate(tau, tau_hat)\n",
    "\n",
    "            if metric_i[0] < -100 or metric_i[0] > 100:\n",
    "                continue\n",
    "                \n",
    "            metrics_result[learner]['mse'].append(metric_i[0])\n",
    "            metrics_result[learner]['bias'].append(metric_i[1])\n",
    "            metrics_result[learner]['r2'].append(metric_i[2])\n",
    "\n",
    "        \n",
    "    \n",
    "    return metrics_result"
   ]
  },
  {
   "cell_type": "code",
   "execution_count": 3,
   "id": "b7c1cca9-df28-4f5a-8f99-56217a234033",
   "metadata": {},
   "outputs": [],
   "source": [
    "def plot_bars(metrics_lr, metrics_x, metrics_dr, metrics_cf, exp_string):\n",
    "    fig, axes = plt.subplots(1, 3, figsize=(18, 6))\n",
    "    \n",
    "    means = [np.mean(metrics_lr['mse']), np.mean(metrics_x['mse']), np.mean(metrics_dr['mse']), np.mean(metrics_cf['mse'])]\n",
    "    errors = [np.std(metrics_lr['mse']), np.std(metrics_x['mse']), np.std(metrics_dr['mse']), np.std(metrics_cf['mse'])]\n",
    "    metrics.bar_plot(axes[0],means, errors, xnames = ['LR', 'X', 'DR', 'CF'], ylabel = 'MSE', title = f'MSE {exp_string}')\n",
    "    \n",
    "    means = [np.mean(metrics_lr['bias']), np.mean(metrics_x['bias']), np.mean(metrics_dr['bias']), np.mean(metrics_cf['bias'])]\n",
    "    errors = [np.std(metrics_lr['bias']), np.std(metrics_x['bias']), np.std(metrics_dr['bias']), np.std(metrics_cf['bias'])]\n",
    "    metrics.bar_plot(axes[1],means, errors, xnames = ['LR', 'X', 'DR', 'CF'], ylabel = 'Bias', title = f'Bias {exp_string}')\n",
    "    \n",
    "    means = [np.mean(metrics_lr['r2']), np.mean(metrics_x['r2']), np.mean(metrics_dr['r2']), np.mean(metrics_cf['r2'])]\n",
    "    errors = [np.std(metrics_lr['r2']), np.std(metrics_x['r2']), np.std(metrics_dr['r2']), np.std(metrics_cf['r2'])]\n",
    "    metrics.bar_plot(axes[2],means, errors, xnames = ['LR', 'X', 'DR', 'CF'], ylabel = 'R2', title = f'R2 {exp_string}')\n",
    "\n",
    "    plt.tight_layout()\n",
    "    \n",
    "    # Show the plot\n",
    "    plt.show()"
   ]
  }
 ],
 "metadata": {
  "kernelspec": {
   "display_name": "Python (causalenv)",
   "language": "python",
   "name": "myenv"
  },
  "language_info": {
   "codemirror_mode": {
    "name": "ipython",
    "version": 3
   },
   "file_extension": ".py",
   "mimetype": "text/x-python",
   "name": "python",
   "nbconvert_exporter": "python",
   "pygments_lexer": "ipython3",
   "version": "3.11.9"
  }
 },
 "nbformat": 4,
 "nbformat_minor": 5
}
